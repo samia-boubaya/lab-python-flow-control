{
 "cells": [
  {
   "cell_type": "markdown",
   "id": "d3bfc191-8885-42ee-b0a0-bbab867c6f9f",
   "metadata": {
    "tags": []
   },
   "source": [
    "# Lab | Flow Control | Samia"
   ]
  },
  {
   "cell_type": "markdown",
   "id": "3851fcd1-cf98-4653-9c89-e003b7ec9400",
   "metadata": {},
   "source": [
    "## Exercise: Managing Customer Orders Optimized\n",
    "\n",
    "In the last lab, you were starting an online store that sells various products. To ensure smooth operations, you developed a program that manages customer orders and inventory.\n",
    "\n",
    "You did so without using flow control. Let's go a step further and improve this code.\n",
    "\n",
    "Follow the steps below to complete the exercise:\n",
    "\n",
    "1. Look at your code from the lab data structures, and improve repeated code with loops.\n",
    "\n",
    "2. Instead of asking the user to input the name of three products that a customer wants to order, do the following:\n",
    "    \n",
    "    a. Prompt the user to enter the name of a product that a customer wants to order.\n",
    "    \n",
    "    b. Add the product name to the \"customer_orders\" set.\n",
    "    \n",
    "    c. Ask the user if they want to add another product (yes/no).\n",
    "    \n",
    "    d. Continue the loop until the user does not want to add another product.\n",
    "\n",
    "3. Instead of updating the inventory by subtracting 1 from the quantity of each product, only do it for  the products that were ordered (those in \"customer_orders\")."
   ]
  },
  {
   "cell_type": "markdown",
   "id": "1ac5f241",
   "metadata": {},
   "source": [
    "## Lab | Data Structures"
   ]
  },
  {
   "cell_type": "code",
   "execution_count": 1,
   "id": "b5e55f91",
   "metadata": {},
   "outputs": [
    {
     "name": "stdout",
     "output_type": "stream",
     "text": [
      "['t-shirt', 'mug', 'hat', 'book', 'keychain']\n"
     ]
    }
   ],
   "source": [
    "# 1.defining the list products\n",
    "products = [\"t-shirt\", \"mug\", \"hat\", \"book\", \"keychain\"]\n",
    "print(products)"
   ]
  },
  {
   "cell_type": "code",
   "execution_count": 2,
   "id": "ae4713ce",
   "metadata": {},
   "outputs": [
    {
     "name": "stdout",
     "output_type": "stream",
     "text": [
      "{}\n"
     ]
    }
   ],
   "source": [
    "# 2. creating an empty dictionary invetory\n",
    "inventory = {}\n",
    "print(inventory)"
   ]
  },
  {
   "cell_type": "code",
   "execution_count": 3,
   "id": "c5f0b30d",
   "metadata": {},
   "outputs": [],
   "source": [
    "# 3. input of the user for quantity of each product\n",
    "for i in range(len(products)):\n",
    "    quantity = int(input(\"Enter the quantity for \" + products[i] + \": \"))\n",
    "    inventory[products[i]] = quantity"
   ]
  },
  {
   "cell_type": "code",
   "execution_count": 4,
   "id": "24fd72c4",
   "metadata": {},
   "outputs": [
    {
     "name": "stdout",
     "output_type": "stream",
     "text": [
      "{'t-shirt': 5, 'mug': 10, 'hat': 15, 'book': 20, 'keychain': 25}\n"
     ]
    }
   ],
   "source": [
    "# 3.5 checking our dictionary inventory\n",
    "print(inventory)"
   ]
  },
  {
   "cell_type": "code",
   "execution_count": 5,
   "id": "9f9c30d6",
   "metadata": {},
   "outputs": [
    {
     "name": "stdout",
     "output_type": "stream",
     "text": [
      "set()\n"
     ]
    }
   ],
   "source": [
    "# 4. creating an empty set customer orders\n",
    "customer_orders = set()\n",
    "print(customer_orders)"
   ]
  },
  {
   "cell_type": "code",
   "execution_count": 6,
   "id": "4d44adad",
   "metadata": {},
   "outputs": [
    {
     "name": "stdout",
     "output_type": "stream",
     "text": [
      "Here is the list of products:\n",
      "['t-shirt', 'mug', 'hat', 'book', 'keychain']\n",
      "\n",
      "Enter the 3 products to order:\n",
      "mug was added to your order.\n",
      "book was added to your order.\n",
      "hat was added to your order.\n"
     ]
    }
   ],
   "source": [
    "# 5. user input for 3 products to order\n",
    "print(\"Here is the list of products:\")\n",
    "print(products)\n",
    "\n",
    "print(\"\\nEnter the 3 products to order:\")\n",
    "\n",
    "for i in range(3):\n",
    "    item = input(\"Enter a product name: \").lower()\n",
    "    if item in products:\n",
    "        customer_orders.add(item)\n",
    "        print(item + \" was added to your order.\")\n",
    "    else:\n",
    "        print(\"Invalid product. Please choose from the list of products.\")\n",
    "        print(products)"
   ]
  },
  {
   "cell_type": "code",
   "execution_count": 7,
   "id": "c7de187a",
   "metadata": {},
   "outputs": [
    {
     "name": "stdout",
     "output_type": "stream",
     "text": [
      "Customer Orders: {'mug', 'book', 'hat'}\n"
     ]
    }
   ],
   "source": [
    "# 6. Printing the ordered products\n",
    "print(\"Customer Orders:\", customer_orders)"
   ]
  },
  {
   "cell_type": "code",
   "execution_count": 8,
   "id": "24921c8e",
   "metadata": {},
   "outputs": [
    {
     "name": "stdout",
     "output_type": "stream",
     "text": [
      "Order Statistics:\n",
      "Total unique products ordered: 3\n",
      "Percentage of products ordered: 60.0 %\n"
     ]
    }
   ],
   "source": [
    "# 7+8. Calculating order statistics and Printing order statistics\n",
    "print(\"Order Statistics:\")\n",
    "# total of products ordered\n",
    "total_products_ordered = len(customer_orders)\n",
    "print(\"Total unique products ordered:\", total_products_ordered)\n",
    "\n",
    "# percentage of products ordered\n",
    "percentage_ordered = (total_products_ordered / len(products)) * 100\n",
    "print(\"Percentage of products ordered:\", percentage_ordered, \"%\")\n",
    "\n",
    "# Storing order status\n",
    "order_status = (total_products_ordered, percentage_ordered)\n",
    "\n",
    "# Printing order status\n",
    "#print(\"Order Status (Total, Percentage):\", order_status)"
   ]
  },
  {
   "cell_type": "code",
   "execution_count": 9,
   "id": "a36cfa0e",
   "metadata": {},
   "outputs": [
    {
     "name": "stdout",
     "output_type": "stream",
     "text": [
      "Updated Inventory:\n",
      "t-shirt : 5\n",
      "mug : 9\n",
      "hat : 14\n",
      "book : 19\n",
      "keychain : 25\n"
     ]
    }
   ],
   "source": [
    "# 9. Updating the inventory by subtracting 1 for each ordered product\n",
    "for ordered_product in customer_orders:\n",
    "    if inventory[ordered_product] > 0:\n",
    "        inventory[ordered_product] = inventory[ordered_product] - 1\n",
    "\n",
    "# 10. Printing the updated inventory\n",
    "print(\"Updated Inventory:\")\n",
    "for product, quantity in inventory.items():\n",
    "    print(product, \":\", quantity)"
   ]
  },
  {
   "cell_type": "markdown",
   "id": "71fc2ec1",
   "metadata": {},
   "source": [
    "## Lab | Flow Control | Samia"
   ]
  },
  {
   "cell_type": "markdown",
   "id": "ba9f045d",
   "metadata": {},
   "source": [
    "## Exercise: Managing Customer Orders Optimized\n",
    "\n",
    "In the last lab, you were starting an online store that sells various products. To ensure smooth operations, you developed a program that manages customer orders and inventory.\n",
    "\n",
    "You did so without using flow control. Let's go a step further and improve this code."
   ]
  },
  {
   "cell_type": "markdown",
   "id": "cec3cb4d",
   "metadata": {},
   "source": [
    "## Follow the steps below to complete the exercise:\n",
    "\n",
    "1. Look at your code from the lab data structures, and improve repeated code with loops.\n",
    "\n",
    "2. Instead of asking the user to input the name of three products that a customer wants to order, do the following:\n",
    "    \n",
    "    a. Prompt the user to enter the name of a product that a customer wants to order.\n",
    "    \n",
    "    b. Add the product name to the \"customer_orders\" set.\n",
    "    \n",
    "    c. Ask the user if they want to add another product (yes/no).\n",
    "    \n",
    "    d. Continue the loop until the user does not want to add another product.\n",
    "\n",
    "3. Instead of updating the inventory by subtracting 1 from the quantity of each product, only do it for  the products that were ordered (those in \"customer_orders\")."
   ]
  },
  {
   "cell_type": "code",
   "execution_count": 10,
   "id": "73a0a88d",
   "metadata": {},
   "outputs": [
    {
     "name": "stdout",
     "output_type": "stream",
     "text": [
      "['t-shirt', 'mug', 'hat', 'book', 'keychain']\n"
     ]
    }
   ],
   "source": [
    "#1. Looking at my code from lab data structures, and improving repeated code with loops:\n",
    "# Define the list of products   \n",
    "products = [\"t-shirt\", \"mug\", \"hat\", \"book\", \"keychain\"]\n",
    "print(products)\n",
    "# Create an empty dictionary to store inventory\n",
    "inventory = {}"
   ]
  },
  {
   "cell_type": "code",
   "execution_count": 11,
   "id": "8485511b",
   "metadata": {},
   "outputs": [
    {
     "name": "stdout",
     "output_type": "stream",
     "text": [
      "Product name entered: mug\n"
     ]
    }
   ],
   "source": [
    "#2.a. Prompt user to enter the name of a product that a customer wants to order:\n",
    "product_name = input(\"Enter the name of the product you want to order: \")\n",
    "print(\"Product name entered:\", product_name)"
   ]
  },
  {
   "cell_type": "code",
   "execution_count": 13,
   "id": "ae7a7caf",
   "metadata": {},
   "outputs": [
    {
     "name": "stdout",
     "output_type": "stream",
     "text": [
      "Customer Orders: {'mug'}\n"
     ]
    }
   ],
   "source": [
    "#2.b. Add the product name to the \"customer_orders\" set:\n",
    "customer_orders = set()\n",
    "customer_orders.add(product_name)\n",
    "print(\"Customer Orders:\", customer_orders)"
   ]
  },
  {
   "cell_type": "code",
   "execution_count": null,
   "id": "f9f9690e",
   "metadata": {},
   "outputs": [
    {
     "name": "stdout",
     "output_type": "stream",
     "text": [
      "No more products to add.\n",
      "No more products to add.\n"
     ]
    }
   ],
   "source": [
    "#2.c. Ask user if they want to add another product (yes/no):\n",
    "answer = input(\"Do you want to add another product? (yes/no): \").lower()\n",
    "if answer == \"yes\":\n",
    "    product_name = input(\"Enter the name of the product you want to order: \")\n",
    "    print(\"Product name entered:\", product_name)\n",
    "    customer_orders.add(product_name)\n",
    "else:\n",
    "    print(\"No more products to add.\")"
   ]
  },
  {
   "cell_type": "code",
   "execution_count": null,
   "id": "075b9530",
   "metadata": {},
   "outputs": [],
   "source": [
    "#### Another Version of 2.c with validation ####\n",
    "\n",
    "#2.c. Ask user if they want to add another product (yes/no):\n",
    "answer = input(\"Do you want to add another product? (yes/no): \").lower()\n",
    "if answer == \"yes\":\n",
    "    product_name = input(\"Enter the name of the product you want to order: \")\n",
    "    if product_name in products:\n",
    "        print(\"Product name entered:\", product_name)\n",
    "        customer_orders.add(product_name)\n",
    "    else:\n",
    "        print(\"Invalid product name.\")\n",
    "else:\n",
    "    print(\"No more products to add.\")"
   ]
  },
  {
   "cell_type": "code",
   "execution_count": null,
   "id": "ba84b476",
   "metadata": {},
   "outputs": [
    {
     "name": "stdout",
     "output_type": "stream",
     "text": [
      "Product name entered: book\n",
      "Invalid input. Please enter 'yes' or 'no'.\n",
      "Product name entered: book\n",
      "Invalid input. Please enter 'yes' or 'no'.\n",
      "Invalid input. Please enter 'yes' or 'no'.\n",
      "Invalid input. Please enter 'yes' or 'no'.\n",
      "Invalid input. Please enter 'yes' or 'no'.\n",
      "Invalid input. Please enter 'yes' or 'no'.\n",
      "No more products to add!\n"
     ]
    }
   ],
   "source": [
    "#2.d. Loop until the user decides to stop adding products:\n",
    "while True:\n",
    "    answer = input(\"Do you want to add another product? (yes/no): \").lower()\n",
    "    if answer == \"yes\":\n",
    "        product_name = input(\"Enter the name of the product you want to order: \")\n",
    "        print(\"Product name entered:\", product_name)\n",
    "        customer_orders.add(product_name)\n",
    "    elif answer == \"no\":\n",
    "        print(\"No more products to add!\")\n",
    "        break\n",
    "    else:\n",
    "        print(\"Invalid input! Please enter 'yes' or 'no'.\")"
   ]
  },
  {
   "cell_type": "code",
   "execution_count": null,
   "id": "c54d7740",
   "metadata": {},
   "outputs": [],
   "source": [
    "#3. Update inventory for ordered products only\n",
    "for product in customer_orders:\n",
    "    if product in inventory:\n",
    "        inventory[product] -= 1\n",
    "        if inventory[product] == 0:\n",
    "            del inventory[product]"
   ]
  }
 ],
 "metadata": {
  "kernelspec": {
   "display_name": "base",
   "language": "python",
   "name": "python3"
  },
  "language_info": {
   "codemirror_mode": {
    "name": "ipython",
    "version": 3
   },
   "file_extension": ".py",
   "mimetype": "text/x-python",
   "name": "python",
   "nbconvert_exporter": "python",
   "pygments_lexer": "ipython3",
   "version": "3.13.5"
  }
 },
 "nbformat": 4,
 "nbformat_minor": 5
}
